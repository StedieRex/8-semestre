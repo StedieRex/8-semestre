{
 "cells": [
  {
   "cell_type": "markdown",
   "id": "c93880dd-f9ad-436b-be7b-98d2c19b7f97",
   "metadata": {},
   "source": [
    "# Espacios de color"
   ]
  },
  {
   "cell_type": "markdown",
   "id": "0d3ad91d-9fd5-475e-9c69-ae17faa2300f",
   "metadata": {},
   "source": [
    "* En caso de ser necesario se debe de instalar OpenCV sobre Jupyter Notebook\n"
   ]
  },
  {
   "cell_type": "code",
   "id": "b16e191d-fe54-4dc1-af0f-4377c0cd5ecc",
   "metadata": {
    "ExecuteTime": {
     "end_time": "2024-08-15T17:59:03.927586Z",
     "start_time": "2024-08-15T17:59:03.911450Z"
    }
   },
   "source": [
    "# pip install opencv-python"
   ],
   "outputs": [],
   "execution_count": 1
  },
  {
   "cell_type": "code",
   "id": "67e34ddf-cedb-478e-aea4-233594b0725d",
   "metadata": {
    "ExecuteTime": {
     "end_time": "2024-08-20T15:22:52.294619Z",
     "start_time": "2024-08-20T15:22:51.523266Z"
    }
   },
   "source": [
    "import cv2"
   ],
   "outputs": [],
   "execution_count": 1
  },
  {
   "cell_type": "markdown",
   "id": "d8def632-0308-43bb-8852-fbac828719a5",
   "metadata": {},
   "source": [
    "Se carga una imagen de archivo"
   ]
  },
  {
   "cell_type": "code",
   "id": "c1f4da53-5767-4460-a31a-f4057de85f64",
   "metadata": {
    "ExecuteTime": {
     "end_time": "2024-08-15T17:59:10.742143Z",
     "start_time": "2024-08-15T17:59:10.704917Z"
    }
   },
   "source": [
    "img = cv2.imread('input.jpg')"
   ],
   "outputs": [],
   "execution_count": 3
  },
  {
   "cell_type": "markdown",
   "id": "72f59df3-d71e-400c-bf33-2f27356570f7",
   "metadata": {},
   "source": "Una vez cargada la imagen en la variable \"img\", se obtiene la dimensión de la misma"
  },
  {
   "cell_type": "code",
   "id": "d62e054d-d6f7-45fc-9d97-607078e77141",
   "metadata": {
    "ExecuteTime": {
     "end_time": "2024-08-15T17:59:13.445511Z",
     "start_time": "2024-08-15T17:59:13.433666Z"
    }
   },
   "source": [
    "dimensions = img.shape\n",
    "print(dimensions)"
   ],
   "outputs": [
    {
     "name": "stdout",
     "output_type": "stream",
     "text": [
      "(458, 812, 3)\n"
     ]
    }
   ],
   "execution_count": 4
  },
  {
   "cell_type": "code",
   "id": "1d798b95-61ea-4191-ba12-699ef74b0999",
   "metadata": {
    "ExecuteTime": {
     "end_time": "2024-08-15T17:59:14.753061Z",
     "start_time": "2024-08-15T17:59:14.747714Z"
    }
   },
   "source": [
    "h = dimensions[0]\n",
    "w = dimensions[1]"
   ],
   "outputs": [],
   "execution_count": 5
  },
  {
   "cell_type": "markdown",
   "id": "ca8c5b31-8615-4f11-b3b8-50807f880f81",
   "metadata": {},
   "source": [
    "# Visualizando la Imagen de entrada"
   ]
  },
  {
   "cell_type": "markdown",
   "id": "ac708f4f-2bc3-4015-b263-9c7467bfc356",
   "metadata": {},
   "source": [
    "Se muestra de forma de cargar la imagen usando OpenCV como con MatPlotLib:"
   ]
  },
  {
   "cell_type": "code",
   "id": "76abf30c-0c5f-4feb-ba36-bb40ac36b1a5",
   "metadata": {
    "jupyter": {
     "is_executing": true
    }
   },
   "source": [
    "cv2.startWindowThread()\n",
    "# Show original\n",
    "cv2.imshow(\"original image\", img)\n",
    "cv2.waitKey(0)\n",
    "cv2.destroyAllWindows()"
   ],
   "outputs": [],
   "execution_count": null
  },
  {
   "cell_type": "markdown",
   "id": "e8eb7479-5a82-4321-89d6-9aae84251eae",
   "metadata": {},
   "source": [
    "Para visualizar la imagen ahora con MatPlotLib:"
   ]
  },
  {
   "cell_type": "code",
   "execution_count": 12,
   "id": "51490e4b-980d-4dcb-9d24-7c81531ebcfd",
   "metadata": {},
   "outputs": [],
   "source": [
    "import matplotlib.pyplot as plt"
   ]
  },
  {
   "cell_type": "code",
   "execution_count": null,
   "id": "2018e375-9ab3-4094-982d-f32c11e09684",
   "metadata": {},
   "outputs": [],
   "source": []
  },
  {
   "cell_type": "markdown",
   "id": "7070ac7a-727d-4674-bff6-0dd53fa2ea54",
   "metadata": {},
   "source": [
    "# Espacio de color RGB"
   ]
  },
  {
   "cell_type": "markdown",
   "id": "311fa4a0-c753-4543-91a2-64d127df4441",
   "metadata": {},
   "source": [
    "El espacio de color RGB es el espacio"
   ]
  },
  {
   "cell_type": "code",
   "execution_count": 13,
   "id": "c1156c30-741e-43aa-b798-4a373fdcf0b9",
   "metadata": {},
   "outputs": [
    {
     "ename": "NameError",
     "evalue": "name 'cv2' is not defined",
     "output_type": "error",
     "traceback": [
      "\u001B[1;31m---------------------------------------------------------------------------\u001B[0m",
      "\u001B[1;31mNameError\u001B[0m                                 Traceback (most recent call last)",
      "Cell \u001B[1;32mIn[13], line 1\u001B[0m\n\u001B[1;32m----> 1\u001B[0m (b, g, r) \u001B[38;5;241m=\u001B[39m cv2\u001B[38;5;241m.\u001B[39msplit(img)\n",
      "\u001B[1;31mNameError\u001B[0m: name 'cv2' is not defined"
     ]
    }
   ],
   "source": [
    "(b, g, r) = cv2.split(img)"
   ]
  },
  {
   "cell_type": "markdown",
   "id": "b9ea89d2-712d-4c0a-b9ff-b637201bf620",
   "metadata": {},
   "source": [
    "Se muestran cada uno de los canales con MatPloit"
   ]
  },
  {
   "metadata": {},
   "cell_type": "code",
   "outputs": [],
   "execution_count": null,
   "source": [
    "plt.figure(figsize=(15,19))\n",
    "plt.subplot(131)\n",
    "plt.imshow(r, cmap='gray')\n",
    "plt.title('R Channel')\n",
    "plt.subplot(132)\n",
    "plt.imshow(g, cmap='gray')\n",
    "plt.title('G Channel')\n",
    "plt.subplot(133)\n",
    "plt.imshow(b, cmap='gray')\n",
    "plt.title('B Channel')\n",
    "plt.show()"
   ],
   "id": "ed0b83704808ab98"
  },
  {
   "metadata": {},
   "cell_type": "markdown",
   "source": "Mostrando las imagenes polarizadas (Nota: solo polarizado no para renderizar)",
   "id": "111c6d0a85f446d4"
  },
  {
   "metadata": {},
   "cell_type": "code",
   "outputs": [],
   "execution_count": null,
   "source": "import numpy as np",
   "id": "a7af55e1f773d633"
  },
  {
   "metadata": {},
   "cell_type": "code",
   "outputs": [],
   "execution_count": null,
   "source": "zeros = np.zeros(img.shape[:2], dtype = \"uint8\")",
   "id": "dd5be1af540b1bd4"
  },
  {
   "metadata": {},
   "cell_type": "code",
   "outputs": [],
   "execution_count": null,
   "source": [
    "img_r = cv2.merge([r, zeros, zeros])\n",
    "img_g = cv2.merge([zeros, g, zeros])\n",
    "img_b = cv2.merge([zeros, zeros, b])\n",
    "\n",
    "plt.figure(figsize=(15,10))\n",
    "plt.subplot(131)\n",
    "plt.imshow(img_r, cmap='gray')\n",
    "plt.title('R Channel')\n",
    "\n",
    "plt.figure(figsize=(15,10))\n",
    "plt.subplot(132)\n",
    "plt.imshow(img_g, cmap='gray')\n",
    "plt.title('G Channel')\n",
    "\n",
    "plt.figure(figsize=(15,10))\n",
    "plt.subplot(133)\n",
    "plt.imshow(img_b, cmap='gray')\n",
    "plt.title('B Channel')\n",
    "\n",
    "plt.show()"
   ],
   "id": "d3e1a03b90f9a140"
  },
  {
   "metadata": {},
   "cell_type": "markdown",
   "source": "# Transformación a Escala de Grises",
   "id": "1c1bdf323f43751c"
  },
  {
   "metadata": {},
   "cell_type": "markdown",
   "source": "El siguiente ejemplo es para transformar una RGB a escalada",
   "id": "de990324e78b7299"
  },
  {
   "metadata": {},
   "cell_type": "code",
   "outputs": [],
   "execution_count": null,
   "source": "img_gray = cv2.cvtColor(img,cv2.COLOR_BGR2GRAY)",
   "id": "d24b1d60fa66201f"
  },
  {
   "metadata": {},
   "cell_type": "code",
   "outputs": [],
   "execution_count": null,
   "source": "plt.imshow(img_gray, cmap='gray')",
   "id": "cec2bc801f93a3d6"
  },
  {
   "metadata": {},
   "cell_type": "markdown",
   "source": "Se va a transformar la imagen RGB a una escala de grises ponderada",
   "id": "5da88230d86f69c"
  },
  {
   "metadata": {
    "jupyter": {
     "is_executing": true
    }
   },
   "cell_type": "code",
   "source": [
    "w_r = 0.299\n",
    "w_g = 0.587\n",
    "w_b = 0.114"
   ],
   "id": "adf8829871e058ad",
   "outputs": [],
   "execution_count": null
  },
  {
   "metadata": {},
   "cell_type": "code",
   "outputs": [],
   "execution_count": null,
   "source": "gray_lum = w_r * r +w_g * g + w_b * b",
   "id": "78610daa87540721"
  },
  {
   "metadata": {},
   "cell_type": "code",
   "outputs": [],
   "execution_count": null,
   "source": "plt.imshow(gray_lum, cmap='gray')",
   "id": "3686806dca2c4614"
  },
  {
   "metadata": {},
   "cell_type": "code",
   "outputs": [],
   "execution_count": null,
   "source": [
    "plt.figure(figsize=(15,10))\n",
    "plt.subplot(121)\n",
    "plt.imshow(img_gray, cmap='gray')\n",
    "plt.title('Imagen Esc. Grises Promedio')\n",
    "\n",
    "plt.figure(figsize=(15,10))\n",
    "plt.subplot(122)\n",
    "plt.imshow(gray_lum, cmap='gray')\n",
    "plt.title('Imagen Esc. Grises Ponderado')\n",
    "\n",
    "plt.show()"
   ],
   "id": "65bd902266d14e87"
  }
 ],
 "metadata": {
  "kernelspec": {
   "display_name": "Python 3 (ipykernel)",
   "language": "python",
   "name": "python3"
  },
  "language_info": {
   "codemirror_mode": {
    "name": "ipython",
    "version": 3
   },
   "file_extension": ".py",
   "mimetype": "text/x-python",
   "name": "python",
   "nbconvert_exporter": "python",
   "pygments_lexer": "ipython3",
   "version": "3.12.3"
  }
 },
 "nbformat": 4,
 "nbformat_minor": 5
}
